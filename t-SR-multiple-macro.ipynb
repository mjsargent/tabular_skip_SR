{
 "cells": [
  {
   "cell_type": "markdown",
   "id": "76305468",
   "metadata": {},
   "source": [
    "## Temporally Extended Successor Representations"
   ]
  },
  {
   "cell_type": "markdown",
   "id": "ae61ff32",
   "metadata": {},
   "source": [
    "### Imports "
   ]
  },
  {
   "cell_type": "code",
   "execution_count": 1,
   "id": "43ac04b9",
   "metadata": {},
   "outputs": [
    {
     "name": "stderr",
     "output_type": "stream",
     "text": [
      "/home/mjsargent/anaconda3/envs/JAX/lib/python3.9/site-packages/scipy/__init__.py:146: UserWarning: A NumPy version >=1.16.5 and <1.23.0 is required for this version of SciPy (detected version 1.23.1\n",
      "  warnings.warn(f\"A NumPy version >={np_minversion} and <{np_maxversion}\"\n",
      "/home/mjsargent/Repos/tabular_skip_SR/utils.py:27: MatplotlibDeprecationWarning: You are modifying the state of a globally registered colormap. This has been deprecated since 3.3 and in 3.6, you will not be able to modify a registered colormap in-place. To remove this warning, you can make a copy of the colormap first. cmap = mpl.cm.get_cmap(\"cividis\").copy()\n",
      "  current_cmap.set_bad(color='grey')\n"
     ]
    }
   ],
   "source": [
    "\n",
    "import utils \n",
    "import numpy as np\n",
    "import matplotlib.pyplot as plt\n",
    "import itertools\n",
    "\n",
    "from collections import defaultdict\n",
    "\n",
    "%matplotlib inline\n"
   ]
  },
  {
   "cell_type": "markdown",
   "id": "582c73ca",
   "metadata": {},
   "source": [
    "### (Hyper)parameters"
   ]
  },
  {
   "cell_type": "code",
   "execution_count": 72,
   "id": "fdbd8fa6",
   "metadata": {},
   "outputs": [],
   "source": [
    "GAMMA = 0.9\n",
    "MAX_SKIP = 7\n",
    "EPS = 0.01\n",
    "ALPHA = 0.9\n",
    "N_MACRO = 3\n",
    "ENV_NAME = \"four_way_junction\" # four_rooms, junction_hard, open_field_10, open_field 50\n"
   ]
  },
  {
   "cell_type": "code",
   "execution_count": 73,
   "id": "155b85c8",
   "metadata": {},
   "outputs": [
    {
     "data": {
      "image/png": "[encoded data removed]",
      "text/plain": [
       "<Figure size 432x288 with 1 Axes>"
      ]
     },
     "metadata": {
      "needs_background": "light"
     },
     "output_type": "display_data"
    }
   ],
   "source": [
    "Ts, env = utils.make_transition_functions(ENV_NAME)\n",
    "dims = utils.get_dims(env)\n",
    "utils.plot_env(env)"
   ]
  },
  {
   "cell_type": "markdown",
   "id": "0f96be66",
   "metadata": {},
   "source": [
    "### Vanilla successor representation\n",
    "$$\\mathbf{M}^{\\pi}(s, s') = (I - \\gamma T^{\\pi})^{-1}$$\n",
    "$$\\pi = \\text{uniform random} $$"
   ]
  },
  {
   "cell_type": "code",
   "execution_count": 4,
   "id": "90b533d0",
   "metadata": {},
   "outputs": [
    {
     "name": "stdout",
     "output_type": "stream",
     "text": [
      "[16.14688601 12.7588814   9.88638716  7.4133429   3.66679964  3.81495316\n",
      "  4.1172462   4.58589263  5.23982764  4.58589263  4.1172462   3.81495316\n",
      "  3.66679964  4.58589263  4.1172462   3.81495316  3.66679964]\n"
     ]
    },
    {
     "data": {
      "image/png": "[encoded data removed]",
      "text/plain": [
       "<Figure size 432x288 with 1 Axes>"
      ]
     },
     "metadata": {
      "needs_background": "light"
     },
     "output_type": "display_data"
    }
   ],
   "source": [
    "M_uniform = utils.compute_random_walk_SR(Ts, gamma = GAMMA)\n",
    "print(M_uniform[0, :])\n",
    "utils.plot_SR(M_uniform)\n"
   ]
  },
  {
   "cell_type": "code",
   "execution_count": 5,
   "id": "0e5fb4cd",
   "metadata": {},
   "outputs": [
    {
     "data": {
      "image/png": "[encoded data removed]",
      "text/plain": [
       "<Figure size 432x288 with 1 Axes>"
      ]
     },
     "metadata": {
      "needs_background": "light"
     },
     "output_type": "display_data"
    }
   ],
   "source": [
    "utils.plot_SR_column(M_uniform, env, s= 16, dims = dims, title = \"\", show = True, save = False)"
   ]
  },
  {
   "cell_type": "markdown",
   "id": "bc5e86ec",
   "metadata": {},
   "source": [
    "### Online Macro Action Discovery - Multiple Macro Actions\n"
   ]
  },
  {
   "cell_type": "markdown",
   "id": "867ea24f",
   "metadata": {},
   "source": [
    "Here we will try macro action discovery over a set of potential macro actions. We will try this in the simplest way possible: using a precomputed baseline SR; fixing the starting state, and randomly sampling the macro actions. We will compute their tSRs, and use the difference between the baseline and tSR as a reward in our abstract MDP.  \n",
    "\n",
    "In this highly simplifed setting, we hope to recover three macro actions: one for each end of three reachable corridors. We will help even more by setting the length of our macro actions to match the length of the desired trajectories. "
   ]
  },
  {
   "cell_type": "markdown",
   "id": "8c690b22",
   "metadata": {},
   "source": [
    "#### Random Walk"
   ]
  },
  {
   "cell_type": "code",
   "execution_count": 49,
   "id": "a457f00a",
   "metadata": {},
   "outputs": [],
   "source": [
    "def compute_abstract_reward(M, M_baseline, M_set, Q_set, mac_idx,states, actions, beta = 0.5, diverse_intrinsic = False):\n",
    "    \n",
    "    abstract_reward = [np.sum(M[(states[0])][_s] - M_baseline[states[0], _s])  for _s, a in zip(states[1:], actions)]\n",
    "    if diverse_intrinsic:\n",
    "        # list the idx of the macros we are not following\n",
    "        intrinsic_reward = 0\n",
    "        \n",
    "        other_idxs = np.arange(len(M_set.keys()))\n",
    "        other_idxs = np.delete(other_idxs, [mac_idx], 0)\n",
    "        \n",
    "        for other_idx in other_idxs:\n",
    "            \n",
    "            q = Q_set[other_idx]\n",
    "            for t in range(len(q.values())):\n",
    "                a_other = np.random.choice(np.where(q[t] == q[t].max())[0])\n",
    "                intrinsic_reward += abs(int(a_other == actions[t]) - 1)\n",
    "                \n",
    "            # find the sequence of actions implied by this macro action\n",
    "        abstract_reward = [ab + beta*intrinsic_reward for ab in abstract_reward]\n",
    "    return abstract_reward \n",
    "            \n",
    "         "
   ]
  },
  {
   "cell_type": "code",
   "execution_count": 50,
   "id": "038472ce",
   "metadata": {},
   "outputs": [],
   "source": [
    "# on policy SARSA style TD update rules for random walk\n",
    "\n",
    "def train_random_walk_multiple_macro(n_traj = 100000, macro_length = 8, n_macro = 3, beta = 0.5, diverse_intrinsic = False, start_state = 16):\n",
    "    # fixed starting state\n",
    "    s = start_state\n",
    "    \n",
    "    action_map = {0: \"UP\", 1: \"RIGHT\", 2: \"DOWN\", 3: \"LEFT\"}\n",
    "    \n",
    "    # define abstract Q values and SRs for macro actions\n",
    "    macro_action_Q = {i: {j: np.zeros(len(action_map.keys())) for j in range(macro_length)} \\\n",
    "                       for i in range(n_macro)} \n",
    "    macro_action_M = {i: defaultdict(lambda: np.zeros(dims[\"states\"])) for i in range(n_macro)}\n",
    "                                                                   \n",
    "    # pre compute a baseline SR\n",
    "    M_baseline =  utils.compute_random_walk_SR(Ts, gamma = GAMMA)\n",
    "\n",
    "    # action space is only the macro actions\n",
    "                    \n",
    "    for i in range(n_traj):\n",
    "                                                                   \n",
    "        mac_idx = np.random.randint(n_macro)\n",
    "        macro_reward = np.zeros(dims[\"states\"])\n",
    "        # store rewards along the subtrajectory to update at the end so we know what actions we are taking\n",
    "        abstract_rewards = np.zeros(macro_length)\n",
    "        macro_rewards = np.zeros([macro_length, dims[\"states\"]])\n",
    "\n",
    "        states_seen = [s]\n",
    "        actions_taken = []\n",
    "        curr_Q_abst = macro_action_Q[mac_idx]\n",
    "        curr_M_macro = macro_action_M[mac_idx]\n",
    "        \n",
    "        for t in range(macro_length):\n",
    "            q_t = curr_Q_abst[t]\n",
    "            # awkward syntax for tie breaks\n",
    "            a = np.random.choice(np.where(q_t == q_t.max())[0])\n",
    "            # eps greedy - probably don't need it?\n",
    "            if np.random.rand(1) < EPS:\n",
    "                a = np.random.randint(4)\n",
    "            s_vector = Ts[action_map[a]][s]\n",
    "            s_ = int(np.where(s_vector == 1)[0])\n",
    "            states_seen.append(s_)\n",
    "            actions_taken.append(a)\n",
    "            s = s_\n",
    "        # now we have the sequence of actions and states, we can compute the abstract rewards\n",
    "\n",
    "           \n",
    "        abstract_reward = compute_abstract_reward(curr_M_macro, M_baseline, macro_action_M, macro_action_Q, mac_idx, states_seen, actions_taken, diverse_intrinsic = diverse_intrinsic)\n",
    "   \n",
    "        a_ = np.random.randint(4)\n",
    "        t = len(actions_taken) - 1\n",
    "        # final abstract state is always a terminal state - has zero value\n",
    "        q_tp1 = np.zeros(len(action_map.keys()))\n",
    "        # TODO seeing as we are doing this reverse loop, we could compute n-step returns\n",
    "        macro_reward = np.zeros(dims['states'])\n",
    "        \n",
    "        for a in reversed(actions_taken):\n",
    "            #s_vector = np.eye(dims[\"states\"])[s_]\n",
    "            #macro_reward += s_vector + GAMMA * macro_reward\n",
    "            #M_macro[(s, a)] += ALPHA * (sr_target - M_macro[(s,a)])\n",
    "\n",
    "            q_t = curr_Q_abst[t]\n",
    "            target = abstract_reward[t] + GAMMA * q_tp1[a_]\n",
    "            q_t[a] += ALPHA * (target - q_t[a])\n",
    "\n",
    "            a_ = a\n",
    "            q_tp1 = q_t\n",
    "            t+=-1\n",
    "            \n",
    "        #print(\"start loop\")\n",
    "        for t, s_ in enumerate(states_seen[1:]):\n",
    "            s_vector = np.eye(dims[\"states\"])[s_]\n",
    "            macro_reward += (GAMMA**t)*s_vector\n",
    "            \n",
    "        a_ = np.random.randint(4)\n",
    "        #print(macro_reward)\n",
    "        sr_target = macro_reward + (GAMMA**(len(actions_taken)))*curr_M_macro[(states_seen[-1])]\n",
    "        curr_M_macro[(states_seen[0])] += ALPHA * (sr_target - curr_M_macro[(states_seen[0])])\n",
    "        # make sure last action matches for next step\n",
    "        a = actions_taken[-1]\n",
    "        \n",
    "        # reset to starting state\n",
    "        s = start_state\n",
    "                                                                   \n",
    "                                                                   \n",
    "    return macro_action_Q, macro_action_M"
   ]
  },
  {
   "cell_type": "code",
   "execution_count": 13,
   "id": "d25eb057",
   "metadata": {},
   "outputs": [],
   "source": [
    "macro_action_Q, macro_action_M,  = train_random_walk_multiple_macro(n_macro = N_MACRO)"
   ]
  },
  {
   "cell_type": "code",
   "execution_count": 9,
   "id": "e61dd79e",
   "metadata": {},
   "outputs": [
    {
     "name": "stdout",
     "output_type": "stream",
     "text": [
      "Action Sequences\n",
      "↑ ↑ ↑ ↑ ↑ ↑ ↑ ← \n",
      "Action Sequences\n",
      "↑ ↑ ↑ ↑ ↑ ↑ ↑ → \n",
      "Action Sequences\n",
      "↑ ↑ ↑ ↑ ↑ ↑ ← ← \n"
     ]
    }
   ],
   "source": [
    "for q in macro_action_Q.values():\n",
    "    utils.print_macro_actions(q)"
   ]
  },
  {
   "cell_type": "markdown",
   "id": "1448d4e7",
   "metadata": {},
   "source": [
    "#### Macro Actions: Diversity with beta = 0.5"
   ]
  },
  {
   "cell_type": "code",
   "execution_count": 53,
   "id": "a2aaa99b",
   "metadata": {},
   "outputs": [],
   "source": [
    "macro_action_Q_diverse, macro_action_M_diverse = train_random_walk_multiple_macro(n_macro = N_MACRO, beta = 0.5, diverse_intrinsic = True)"
   ]
  },
  {
   "cell_type": "code",
   "execution_count": 52,
   "id": "760f5a5a",
   "metadata": {},
   "outputs": [
    {
     "name": "stdout",
     "output_type": "stream",
     "text": [
      "Action Sequences\n",
      "← → ↑ ↑ ← ↑ ↑ ↑ \n",
      "Action Sequences\n",
      "↑ ↑ ↑ ← ← ← → ↑ \n",
      "Action Sequences\n",
      "↑ ↑ ↑ ↑ ↑ ↑ ↑ ↑ \n"
     ]
    }
   ],
   "source": [
    "for q in macro_action_Q_diverse.values():\n",
    "    utils.print_macro_actions(q)"
   ]
  },
  {
   "cell_type": "markdown",
   "id": "ea9c4269",
   "metadata": {},
   "source": [
    "#### Macro Actions: Diversity with beta = 1"
   ]
  },
  {
   "cell_type": "code",
   "execution_count": 54,
   "id": "fcaeac33",
   "metadata": {},
   "outputs": [],
   "source": [
    "macro_action_Q_diverse, macro_action_M_diverse = train_random_walk_multiple_macro(n_traj = 500000, n_macro = N_MACRO, beta = 1, diverse_intrinsic = True)"
   ]
  },
  {
   "cell_type": "code",
   "execution_count": 55,
   "id": "6aa7e33e",
   "metadata": {},
   "outputs": [
    {
     "name": "stdout",
     "output_type": "stream",
     "text": [
      "Action Sequences\n",
      "↑ ↑ → ← → ↑ ↑ ← \n",
      "Action Sequences\n",
      "↑ ↑ ↑ ↑ ← ← ↑ → \n",
      "Action Sequences\n",
      "↑ ↑ ↑ ↑ ↑ ↑ ↑ ↑ \n"
     ]
    }
   ],
   "source": [
    "for q in macro_action_Q_diverse.values():\n",
    "    utils.print_macro_actions(q)"
   ]
  },
  {
   "cell_type": "markdown",
   "id": "4c0decc0",
   "metadata": {},
   "source": [
    "#### Macro Actions: Diversity with beta = 2"
   ]
  },
  {
   "cell_type": "code",
   "execution_count": 56,
   "id": "7f27693a",
   "metadata": {},
   "outputs": [],
   "source": [
    "macro_action_Q_diverse, macro_action_M_diverse = train_random_walk_multiple_macro(n_traj = 500000, n_macro = N_MACRO, beta = 2, diverse_intrinsic = True)"
   ]
  },
  {
   "cell_type": "code",
   "execution_count": 57,
   "id": "9b8de145",
   "metadata": {},
   "outputs": [
    {
     "name": "stdout",
     "output_type": "stream",
     "text": [
      "Action Sequences\n",
      "↑ ↑ ↑ → ↑ ↑ ↑ ← \n",
      "Action Sequences\n",
      "↑ ↑ ↑ ↑ → → ↑ ↑ \n",
      "Action Sequences\n",
      "↑ ↑ → ↑ ↑ ↑ → → \n"
     ]
    }
   ],
   "source": [
    "for q in macro_action_Q_diverse.values():\n",
    "    utils.print_macro_actions(q)"
   ]
  },
  {
   "cell_type": "markdown",
   "id": "9e835a0b",
   "metadata": {},
   "source": [
    "#### Macro Actions: Diversity with beta = 10"
   ]
  },
  {
   "cell_type": "code",
   "execution_count": 59,
   "id": "f114b920",
   "metadata": {},
   "outputs": [],
   "source": [
    "macro_action_Q_diverse, macro_action_M_diverse = train_random_walk_multiple_macro(n_traj = 500000, n_macro = N_MACRO, beta = 10, diverse_intrinsic = True)"
   ]
  },
  {
   "cell_type": "code",
   "execution_count": 60,
   "id": "3b957f9d",
   "metadata": {},
   "outputs": [
    {
     "name": "stdout",
     "output_type": "stream",
     "text": [
      "Action Sequences\n",
      "↑ ↑ ↑ ↑ ↑ ↑ → ↑ \n",
      "Action Sequences\n",
      "↑ ↑ ↑ ↑ ↑ ← ↑ → \n",
      "Action Sequences\n",
      "↑ ↑ ↑ ↑ → ↑ ↑ ↓ \n"
     ]
    }
   ],
   "source": [
    "\n",
    "for q in macro_action_Q_diverse.values():\n",
    "    utils.print_macro_actions(q)"
   ]
  },
  {
   "cell_type": "markdown",
   "id": "577ff6b2",
   "metadata": {},
   "source": [
    "These macro actions learn to traverse the first part of the corridor, (first four actions) but are not generally coherent. What if instead we use MC to update the abstract Q values instead of TD?"
   ]
  },
  {
   "cell_type": "code",
   "execution_count": 74,
   "id": "197c36f6",
   "metadata": {},
   "outputs": [],
   "source": [
    "def train_random_walk_multiple_macro_abstract_MC(n_traj = 100000, macro_length = 8, n_macro = 3, beta = 0.5, diverse_intrinsic = False, start_state = 16):\n",
    "    # fixed starting state\n",
    "    s = start_state\n",
    "    \n",
    "    action_map = {0: \"UP\", 1: \"RIGHT\", 2: \"DOWN\", 3: \"LEFT\"}\n",
    "    \n",
    "    # define abstract Q values and SRs for macro actions\n",
    "    macro_action_Q = {i: {j: np.zeros(len(action_map.keys())) for j in range(macro_length)} \\\n",
    "                       for i in range(n_macro)} \n",
    "    macro_action_M = {i: defaultdict(lambda: np.zeros(dims[\"states\"])) for i in range(n_macro)}\n",
    "                                                                   \n",
    "    # pre compute a baseline SR\n",
    "    M_baseline =  utils.compute_random_walk_SR(Ts, gamma = GAMMA)\n",
    "\n",
    "    # action space is only the macro actions\n",
    "                    \n",
    "    for i in range(n_traj):\n",
    "                                                                   \n",
    "        mac_idx = np.random.randint(n_macro)\n",
    "        macro_reward = np.zeros(dims[\"states\"])\n",
    "        # store rewards along the subtrajectory to update at the end so we know what actions we are taking\n",
    "        abstract_rewards = np.zeros(macro_length)\n",
    "        macro_rewards = np.zeros([macro_length, dims[\"states\"]])\n",
    "\n",
    "        states_seen = [s]\n",
    "        actions_taken = []\n",
    "        curr_Q_abst = macro_action_Q[mac_idx]\n",
    "        curr_M_macro = macro_action_M[mac_idx]\n",
    "        \n",
    "        for t in range(macro_length):\n",
    "            q_t = curr_Q_abst[t]\n",
    "            # awkward syntax for tie breaks\n",
    "            a = np.random.choice(np.where(q_t == q_t.max())[0])\n",
    "            # eps greedy - probably don't need it?\n",
    "            if np.random.rand(1) < EPS:\n",
    "                a = np.random.randint(4)\n",
    "            s_vector = Ts[action_map[a]][s]\n",
    "            s_ = int(np.where(s_vector == 1)[0])\n",
    "            states_seen.append(s_)\n",
    "            actions_taken.append(a)\n",
    "            s = s_\n",
    "        # now we have the sequence of actions and states, we can compute the abstract rewards\n",
    "\n",
    "           \n",
    "        abstract_reward = compute_abstract_reward(curr_M_macro, M_baseline, macro_action_M, macro_action_Q, mac_idx, states_seen, actions_taken, diverse_intrinsic = diverse_intrinsic)\n",
    "   \n",
    "        a_ = np.random.randint(4)\n",
    "        t = len(actions_taken) - 1\n",
    "        # final abstract state is always a terminal state - has zero value\n",
    "        q_tp1 = np.zeros(len(action_map.keys()))\n",
    "        # TODO seeing as we are doing this reverse loop, we could compute n-step returns\n",
    "        macro_reward = np.zeros(dims['states'])\n",
    "        \n",
    "        abstract_acc = 0\n",
    "        for a in reversed(actions_taken):\n",
    "            abstract_acc = abstract_reward[t] + GAMMA * abstract_acc\n",
    "            q_t = curr_Q_abst[t]\n",
    "            \n",
    "            q_t[a] += ALPHA * (abstract_acc - q_t[a])\n",
    "            \n",
    "\n",
    "            a_ = a\n",
    "            q_tp1 = q_t\n",
    "            t+=-1\n",
    "            \n",
    "        #print(\"start loop\")\n",
    "        for t, s_ in enumerate(states_seen[1:]):\n",
    "            s_vector = np.eye(dims[\"states\"])[s_]\n",
    "            macro_reward += (GAMMA**t)*s_vector\n",
    "            \n",
    "        a_ = np.random.randint(4)\n",
    "        #print(macro_reward)\n",
    "        sr_target = macro_reward + (GAMMA**(len(actions_taken)))*curr_M_macro[(states_seen[-1])]\n",
    "        curr_M_macro[(states_seen[0])] += ALPHA * (sr_target - curr_M_macro[(states_seen[0])])\n",
    "        # make sure last action matches for next step\n",
    "        a = actions_taken[-1]\n",
    "        \n",
    "        # reset to starting state\n",
    "        s = start_state\n",
    "                                                                   \n",
    "                                                                   \n",
    "    return macro_action_Q, macro_action_M"
   ]
  },
  {
   "cell_type": "code",
   "execution_count": 75,
   "id": "cf90c9a4",
   "metadata": {},
   "outputs": [],
   "source": [
    "\n",
    "macro_action_Q_diverse, macro_action_M_diverse = train_random_walk_multiple_macro_abstract_MC(n_traj = 500000, n_macro = N_MACRO, beta = 1, diverse_intrinsic = False)"
   ]
  },
  {
   "cell_type": "code",
   "execution_count": 76,
   "id": "d41c361f",
   "metadata": {},
   "outputs": [
    {
     "name": "stdout",
     "output_type": "stream",
     "text": [
      "Action Sequences\n",
      "↑ ↑ ↑ ↑ ↑ ↑ ↑ → \n",
      "Action Sequences\n",
      "↑ ↑ ↑ ↑ ↑ ↑ ↑ ↑ \n",
      "Action Sequences\n",
      "↑ ↑ ↑ ↑ → ↑ ← ← \n"
     ]
    }
   ],
   "source": [
    "for q in macro_action_Q_diverse.values():\n",
    "    utils.print_macro_actions(q)"
   ]
  },
  {
   "cell_type": "code",
   "execution_count": 79,
   "id": "6d95c0ae",
   "metadata": {},
   "outputs": [],
   "source": [
    "\n",
    "macro_action_Q_diverse, macro_action_M_diverse = train_random_walk_multiple_macro_abstract_MC(n_traj = 500000, n_macro = N_MACRO, beta = 3, diverse_intrinsic = True)\n"
   ]
  },
  {
   "cell_type": "code",
   "execution_count": 80,
   "id": "32214fa0",
   "metadata": {},
   "outputs": [
    {
     "name": "stdout",
     "output_type": "stream",
     "text": [
      "Action Sequences\n",
      "↑ ↑ → ↑ ↑ ↑ → ← \n",
      "Action Sequences\n",
      "→ ← → ↓ → → ↓ → \n",
      "Action Sequences\n",
      "← ↓ ↑ ← ↓ ↓ ↑ ↑ \n"
     ]
    }
   ],
   "source": [
    "\n",
    "for q in macro_action_Q_diverse.values():\n",
    "    utils.print_macro_actions(q)"
   ]
  },
  {
   "cell_type": "code",
   "execution_count": null,
   "id": "a08aefb9",
   "metadata": {},
   "outputs": [],
   "source": []
  }
 ],
 "metadata": {
  "kernelspec": {
   "display_name": "Python 3",
   "language": "python",
   "name": "python3"
  },
  "language_info": {
   "codemirror_mode": {
    "name": "ipython",
    "version": 3
   },
   "file_extension": ".py",
   "mimetype": "text/x-python",
   "name": "python",
   "nbconvert_exporter": "python",
   "pygments_lexer": "ipython3",
   "version": "3.7.10"
  }
 },
 "nbformat": 4,
 "nbformat_minor": 5
}
