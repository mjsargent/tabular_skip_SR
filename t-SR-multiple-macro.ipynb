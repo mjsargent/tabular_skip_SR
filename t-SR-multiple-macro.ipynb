{
 "cells": [
  {
   "cell_type": "markdown",
   "id": "76305468",
   "metadata": {},
   "source": [
    "## Temporally Extended Successor Representations"
   ]
  },
  {
   "cell_type": "markdown",
   "id": "ae61ff32",
   "metadata": {},
   "source": [
    "### Imports "
   ]
  },
  {
   "cell_type": "code",
   "execution_count": 4,
   "id": "43ac04b9",
   "metadata": {},
   "outputs": [],
   "source": [
    "\n",
    "import utils \n",
    "import numpy as np\n",
    "import matplotlib.pyplot as plt\n",
    "import itertools\n",
    "\n",
    "from collections import defaultdict\n",
    "\n",
    "%matplotlib inline\n"
   ]
  },
  {
   "cell_type": "markdown",
   "id": "582c73ca",
   "metadata": {},
   "source": [
    "### (Hyper)parameters"
   ]
  },
  {
   "cell_type": "code",
   "execution_count": 5,
   "id": "fdbd8fa6",
   "metadata": {},
   "outputs": [],
   "source": [
    "GAMMA = 0.99\n",
    "MAX_SKIP = 7\n",
    "EPS = 0.05\n",
    "ALPHA = 0.5\n",
    "N_MACRO = 3\n",
    "ENV_NAME = \"four_way_junction\" # four_rooms, junction_hard, open_field_10, open_field 50\n"
   ]
  },
  {
   "cell_type": "code",
   "execution_count": 6,
   "id": "155b85c8",
   "metadata": {},
   "outputs": [
    {
     "data": {
      "image/png": "[encoded data removed]",
      "text/plain": [
       "<Figure size 432x288 with 1 Axes>"
      ]
     },
     "metadata": {
      "needs_background": "light"
     },
     "output_type": "display_data"
    }
   ],
   "source": [
    "Ts, env = utils.make_transition_functions(ENV_NAME)\n",
    "dims = utils.get_dims(env)\n",
    "utils.plot_env(env)"
   ]
  },
  {
   "cell_type": "markdown",
   "id": "0f96be66",
   "metadata": {},
   "source": [
    "### Vanilla successor representation\n",
    "$$\\mathbf{M}^{\\pi}(s, s') = (I - \\gamma T^{\\pi})^{-1}$$\n",
    "$$\\pi = \\text{uniform random} $$"
   ]
  },
  {
   "cell_type": "code",
   "execution_count": 7,
   "id": "90b533d0",
   "metadata": {},
   "outputs": [
    {
     "data": {
      "image/png": "[encoded data removed]",
      "text/plain": [
       "<Figure size 432x288 with 1 Axes>"
      ]
     },
     "metadata": {
      "needs_background": "light"
     },
     "output_type": "display_data"
    },
    {
     "name": "stdout",
     "output_type": "stream",
     "text": [
      "[16.14688601 12.7588814   9.88638716  7.4133429   3.66679964  3.81495316\n",
      "  4.1172462   4.58589263  5.23982764  4.58589263  4.1172462   3.81495316\n",
      "  3.66679964  4.58589263  4.1172462   3.81495316  3.66679964]\n"
     ]
    },
    {
     "data": {
      "image/png": "[encoded data removed]",
      "text/plain": [
       "<Figure size 432x288 with 1 Axes>"
      ]
     },
     "metadata": {
      "needs_background": "light"
     },
     "output_type": "display_data"
    }
   ],
   "source": [
    "M_uniform = utils.compute_random_walk_SR(Ts, gamma = GAMMA)\n",
    "print(M_uniform[0, :])\n",
    "utils.plot_SR(M_uniform)\n"
   ]
  },
  {
   "cell_type": "code",
   "execution_count": 8,
   "id": "0e5fb4cd",
   "metadata": {},
   "outputs": [
    {
     "data": {
      "image/png": "[encoded data removed]",
      "text/plain": [
       "<Figure size 432x288 with 1 Axes>"
      ]
     },
     "metadata": {
      "needs_background": "light"
     },
     "output_type": "display_data"
    }
   ],
   "source": [
    "utils.plot_SR_column(M_uniform, env, s= 16, dims = dims, title = \"\", show = True, save = False)"
   ]
  },
  {
   "cell_type": "markdown",
   "id": "bc5e86ec",
   "metadata": {},
   "source": [
    "### Online Macro Action Discovery - Multiple Macro Actions\n"
   ]
  },
  {
   "cell_type": "markdown",
   "id": "867ea24f",
   "metadata": {},
   "source": [
    "Here we will try macro action discovery over a set of potential macro actions. We will try this in the simplest way possible: using a precomputed baseline SR; fixing the starting state, and randomly sampling the macro actions. We will compute their tSRs, and use the difference between the baseline and tSR as a reward in our abstract MDP.  \n",
    "\n",
    "In this highly simplifed setting, we hope to recover three macro actions: one for each end of three reachable corridors. We will help even more by setting the length of our macro actions to match the length of the desired trajectories. "
   ]
  },
  {
   "cell_type": "markdown",
   "id": "8c690b22",
   "metadata": {},
   "source": [
    "#### Random Walk"
   ]
  },
  {
   "cell_type": "code",
   "execution_count": 27,
   "id": "038472ce",
   "metadata": {},
   "outputs": [],
   "source": [
    "# on policy SARSA style TD update rules for random walk\n",
    "\n",
    "def train_random_walk_multiple_macro(n_traj = 100000, macro_length = 8, n_macro = 3):\n",
    "    # fixed starting state\n",
    "    s = 16\n",
    "    \n",
    "    action_map = {0: \"UP\", 1: \"RIGHT\", 2: \"DOWN\", 3: \"LEFT\"}\n",
    "    \n",
    "    # define abstract Q values and SRs for macro actions\n",
    "    macro_action_Q = {i: {j: np.zeros(len(action_map.keys())) for j in range(macro_length)} \\\n",
    "                       for i in range(n_macro)} \n",
    "    macro_action_M = {i: defaultdict(lambda: np.zeros(dims[\"states\"])) for i in range(n_macro)}\n",
    "                                                                   \n",
    "    # pre compute a baseline SR\n",
    "    M_baseline =  utils.compute_random_walk_SR(Ts, gamma = GAMMA)\n",
    "\n",
    "    # action space is only the macro actions\n",
    "                    \n",
    "    for i in range(n_traj):\n",
    "                                                                   \n",
    "        mac = np.random.randint(n_macro)\n",
    "        macro_reward = np.zeros(dims[\"states\"])\n",
    "        # store rewards along the subtrajectory to update at the end so we know what actions we are taking\n",
    "        abstract_rewards = np.zeros(macro_length)\n",
    "        macro_rewards = np.zeros([macro_length, dims[\"states\"]])\n",
    "\n",
    "        states_seen = [s]\n",
    "        actions_taken = []\n",
    "        curr_Q_abst = macro_action_Q[mac]\n",
    "        curr_M_macro = macro_action_M[mac]\n",
    "        for t in range(macro_length):\n",
    "            q_t = curr_Q_abst[t]\n",
    "            # awkward syntax for tie breaks\n",
    "            a = np.random.choice(np.where(q_t == q_t.max())[0])\n",
    "            # eps greedy - probably don't need it?\n",
    "            if np.random.rand(1) < EPS:\n",
    "                a = np.random.randint(4)\n",
    "            s_vector = Ts[action_map[a]][s]\n",
    "            s_ = int(np.where(s_vector == 1)[0])\n",
    "            states_seen.append(s_)\n",
    "            actions_taken.append(a)\n",
    "            s = s_\n",
    "        # now we have the sequence of actions and states, we can compute the abstract rewards\n",
    "\n",
    "        # TODO update tSR before or after abstract rewards are computed? \n",
    "        \n",
    "        # TODO do not loop over s, loop over s' \n",
    "        abstract_reward = [np.sum(curr_M_macro[(states_seen[0])][_s] - M_baseline[states_seen[0], _s]) for _s, a in zip(states_seen[1:], actions_taken)]\n",
    "        #print(\"macro\", curr_M_macro[(states_seen[0])][s])\n",
    "        #print(\"baseline\", M_baseline[states_seen[0], s])\n",
    "        # choose last action randomly - could take the expectation over the last SR instead\n",
    "        a_ = np.random.randint(4)\n",
    "        t = len(actions_taken) - 1\n",
    "        # final abstract state is always a terminal state - has zero value\n",
    "        q_tp1 = np.zeros(len(action_map.keys()))\n",
    "        # TODO seeing as we are doing this reverse loop, we could compute n-step returns\n",
    "        macro_reward = np.zeros(dims['states'])\n",
    "        \n",
    "        for a in reversed(actions_taken):\n",
    "            #s_vector = np.eye(dims[\"states\"])[s_]\n",
    "            #macro_reward += s_vector + GAMMA * macro_reward\n",
    "            #M_macro[(s, a)] += ALPHA * (sr_target - M_macro[(s,a)])\n",
    "\n",
    "            q_t = curr_Q_abst[t]\n",
    "            target = abstract_reward[t] + GAMMA * q_tp1[a_]\n",
    "            q_t[a] += ALPHA * (target - q_t[a])\n",
    "\n",
    "            a_ = a\n",
    "            q_tp1 = q_t\n",
    "            t+=-1\n",
    "            \n",
    "        #print(\"start loop\")\n",
    "        for t, s_ in enumerate(states_seen[1:]):\n",
    "            s_vector = np.eye(dims[\"states\"])[s_]\n",
    "            macro_reward += (GAMMA**t)*s_vector\n",
    "            \n",
    "        a_ = np.random.randint(4)\n",
    "        #print(macro_reward)\n",
    "        sr_target = macro_reward + (GAMMA**(len(actions_taken)))*curr_M_macro[(states_seen[-1])]\n",
    "        curr_M_macro[(states_seen[0])] += ALPHA * (sr_target - curr_M_macro[(states_seen[0])])\n",
    "        # make sure last action matches for next step\n",
    "        a = actions_taken[-1]\n",
    "        \n",
    "        # reset to starting state\n",
    "        s = 16\n",
    "                                                                   \n",
    "                                                                   \n",
    "    return macro_action_Q, macro_action_M"
   ]
  },
  {
   "cell_type": "code",
   "execution_count": 28,
   "id": "d25eb057",
   "metadata": {},
   "outputs": [
    {
     "data": {
      "image/png": "[encoded data removed]",
      "text/plain": [
       "<Figure size 432x288 with 1 Axes>"
      ]
     },
     "metadata": {
      "needs_background": "light"
     },
     "output_type": "display_data"
    }
   ],
   "source": [
    "macro_action_Q, macro_action_M,  = train_random_walk_multiple_macro(n_macro = N_MACRO)"
   ]
  }
 ],
 "metadata": {
  "kernelspec": {
   "display_name": "Python 3",
   "language": "python",
   "name": "python3"
  },
  "language_info": {
   "codemirror_mode": {
    "name": "ipython",
    "version": 3
   },
   "file_extension": ".py",
   "mimetype": "text/x-python",
   "name": "python",
   "nbconvert_exporter": "python",
   "pygments_lexer": "ipython3",
   "version": "3.9.12"
  }
 },
 "nbformat": 4,
 "nbformat_minor": 5
}
